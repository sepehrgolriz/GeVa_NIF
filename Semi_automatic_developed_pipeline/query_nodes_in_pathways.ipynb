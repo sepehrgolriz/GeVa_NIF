{
 "cells": [
  {
   "cell_type": "markdown",
   "metadata": {},
   "source": [
    "# This notebook validates the presence (or lack thereof) of the KANSL1 gene and other genes found in our mechanistic model in the KEGG, Reactome and WikiPathways databases."
   ]
  },
  {
   "cell_type": "code",
   "execution_count": 1,
   "metadata": {},
   "outputs": [
    {
     "name": "stderr",
     "output_type": "stream",
     "text": [
      "/home/smubeen/.local/lib/python3.6/site-packages/pybel/parser/modifiers/fusion.py:59: SyntaxWarning: Exception creating Regex for oneOf, building MatchFirst\n",
      "  reference_seq = oneOf(['r', 'p', 'c'])\n",
      "/home/smubeen/.local/lib/python3.6/site-packages/pybel/parser/modifiers/gene_substitution.py:47: SyntaxWarning: Exception creating Regex for oneOf, building MatchFirst\n",
      "  dna_nucleotide = oneOf(list(language.dna_nucleotide_labels.keys()))\n",
      "/home/smubeen/.local/lib/python3.6/site-packages/pybel/parser/modifiers/constants.py:10: SyntaxWarning: Exception creating Regex for oneOf, building MatchFirst\n",
      "  aa_single = oneOf(list(language.amino_acid_dict.keys()))\n",
      "/home/smubeen/.local/lib/python3.6/site-packages/pybel/parser/modifiers/protein_modification.py:109: SyntaxWarning: Exception creating Regex for oneOf, building MatchFirst\n",
      "  pmod_legacy_ns = oneOf(list(pmod_legacy_labels)).setParseAction(_handle_pmod_legacy_ns)\n"
     ]
    }
   ],
   "source": [
    "import os\n",
    "import sys\n",
    "\n",
    "import pybel\n",
    "from pybel.constants import GENE, PROTEIN, RNA\n",
    "from pybel_jupyter import to_jupyter"
   ]
  },
  {
   "cell_type": "code",
   "execution_count": 2,
   "metadata": {},
   "outputs": [
    {
     "data": {
      "text/plain": [
       "'3.6.8 (default, Aug  7 2019, 19:55:42) \\n[GCC 4.8.5 20150623 (Red Hat 4.8.5-39)]'"
      ]
     },
     "execution_count": 2,
     "metadata": {},
     "output_type": "execute_result"
    }
   ],
   "source": [
    "sys.version"
   ]
  },
  {
   "cell_type": "code",
   "execution_count": 3,
   "metadata": {},
   "outputs": [
    {
     "data": {
      "text/plain": [
       "'0.13.2'"
      ]
     },
     "execution_count": 3,
     "metadata": {},
     "output_type": "execute_result"
    }
   ],
   "source": [
    "pybel.get_version()"
   ]
  },
  {
   "cell_type": "code",
   "execution_count": 4,
   "metadata": {},
   "outputs": [],
   "source": [
    "pathme_directory = os.path.join(os.getenv(\"HOME\"),'.pathme')\n",
    "\n",
    "kegg_path = os.path.join(pathme_directory, 'kegg', 'bel')\n",
    "reactome_path = os.path.join(pathme_directory, 'reactome', 'bel')\n",
    "wikipathways_path = os.path.join(pathme_directory, 'wikipathways', 'bel')"
   ]
  },
  {
   "cell_type": "code",
   "execution_count": 5,
   "metadata": {},
   "outputs": [],
   "source": [
    "def get_pathway_from_pickles(path):\n",
    "    \"\"\"Get pathway bel graphs from pathway pickles directory\n",
    "    \n",
    "    :path: str path to pickles directory \n",
    "    \"\"\"\n",
    "    pathways = set()\n",
    "\n",
    "    for file in os.listdir(path):\n",
    "\n",
    "        pathway = pybel.from_pickle(os.path.join(path,file))\n",
    "        pathways.add(pathway)\n",
    "\n",
    "    return pathways"
   ]
  },
  {
   "cell_type": "code",
   "execution_count": 6,
   "metadata": {},
   "outputs": [],
   "source": [
    "kegg_pathways = get_pathway_from_pickles(kegg_path)\n",
    "reactome_pathways = get_pathway_from_pickles(reactome_path)\n",
    "wp_pathways = get_pathway_from_pickles(wikipathways_path)"
   ]
  },
  {
   "cell_type": "code",
   "execution_count": 7,
   "metadata": {},
   "outputs": [],
   "source": [
    "def get_pathway_containing_node(pathway, query_node):\n",
    "    \"\"\"Get pathway if the query node is present in it.\n",
    "    \n",
    "    :graph: BEL graph\n",
    "    :query_node: specific node to search\n",
    "    \"\"\"    \n",
    "    for node in pathway:\n",
    "\n",
    "        if node.function == PROTEIN or node.function == GENE or node.function == RNA:\n",
    "\n",
    "            if query_node == node.name:\n",
    "\n",
    "                return pathway\n",
    "            \n",
    "\n",
    "def check_pathways_for_query_node(pathway_set, query_node):\n",
    "    \"\"\"Get all the pathways in a set of pathways that contains the query node\n",
    "    \n",
    "    :pathway_set: set of pathways\n",
    "    :query_node: specific node to search\n",
    "    \"\"\"   \n",
    "    pathways_with_query_node = set()\n",
    "    \n",
    "    for pathway in pathway_set:\n",
    "                \n",
    "        bel_graph = get_pathway_containing_node(pathway, query_node)\n",
    "                \n",
    "        if bel_graph:\n",
    "            \n",
    "            pathways_with_query_node.add(bel_graph.name)\n",
    "        \n",
    "    return pathways_with_query_node\n"
   ]
  },
  {
   "cell_type": "markdown",
   "metadata": {},
   "source": [
    "#### Querying genes from our mechanistic model in pathway databases "
   ]
  },
  {
   "cell_type": "markdown",
   "metadata": {},
   "source": [
    "Query KANSL1 in the 3 databases"
   ]
  },
  {
   "cell_type": "code",
   "execution_count": 8,
   "metadata": {
    "scrolled": true
   },
   "outputs": [],
   "source": [
    "kansl1_in_kegg_pathways = check_pathways_for_query_node(kegg_pathways, 'KANSL1')\n",
    "kansl1_in_reactome_pathways = check_pathways_for_query_node(reactome_pathways, 'KANSL1')\n",
    "kansl1_in_wp_pathways = check_pathways_for_query_node(wp_pathways, 'KANSL1')"
   ]
  },
  {
   "cell_type": "markdown",
   "metadata": {},
   "source": [
    "|Gene|KEGG Pathway|Reactome Pathway|WikiPathways Pathway|\n",
    "|----|------------|----------------|--------------------|\n",
    "|KANSL1|NA|NA|NA|"
   ]
  },
  {
   "cell_type": "markdown",
   "metadata": {},
   "source": [
    "Query BDNF in the 3 databases"
   ]
  },
  {
   "cell_type": "code",
   "execution_count": 9,
   "metadata": {},
   "outputs": [],
   "source": [
    "BDNF_in_kegg_pathways = check_pathways_for_query_node(kegg_pathways, 'BDNF')\n",
    "BDNF_in_reactome_pathways = check_pathways_for_query_node(reactome_pathways, 'BDNF')\n",
    "BDNF_in_wp_pathways = check_pathways_for_query_node(wp_pathways, 'BDNF')"
   ]
  },
  {
   "cell_type": "markdown",
   "metadata": {},
   "source": [
    "|Gene|KEGG Pathway|Reactome Pathway|WikiPathways Pathway|\n",
    "|----|------------|----------------|--------------------|\n",
    "|BDNF|Alcoholism|Activated NTRK2 signals through CDK5|BDNF-TrkB Signaling|\n",
    "|BDNF|Cocaine addiction|Activated NTRK2 signals through FYN|Brain-Derived Neurotrophic Factor (BDNF) signaling pathway|\n",
    "|BDNF|Huntington disease|BDNF activates NTRK2 (TRKB) signaling|ERK Pathway in Huntington's Disease|\n",
    "|BDNF|MAPK signaling pathway|MECP2 regulates transcription of neuronal ligands|MECP2 and Associated Rett Syndrome|\n",
    "|BDNF|Neurotrophin signaling pathway|NTRK2 activates RAC1|Prader-Willi and Angelman Syndrome|\n",
    "|BDNF|PI3K-Akt signaling pathway|NA|Spinal Cord Injury|\n",
    "|BDNF|Ras signaling pathway|NA|Sudden Infant Death Syndrome (SIDS) Susceptibility Pathways|\n",
    "|BDNF|cAMP signaling pathway|NA|Synaptic signaling pathways associated with autism spectrum disorder|"
   ]
  },
  {
   "cell_type": "markdown",
   "metadata": {},
   "source": [
    "Query the BTG2 gene in the 3 databases"
   ]
  },
  {
   "cell_type": "code",
   "execution_count": 10,
   "metadata": {},
   "outputs": [],
   "source": [
    "BTG2_in_kegg_pathways = check_pathways_for_query_node(kegg_pathways, 'BTG2')\n",
    "BTG2_in_reactome_pathways = check_pathways_for_query_node(reactome_pathways, 'BTG2')\n",
    "BTG2_in_wp_pathways = check_pathways_for_query_node(wp_pathways, 'BTG2')"
   ]
  },
  {
   "cell_type": "markdown",
   "metadata": {},
   "source": [
    "|Gene|KEGG Pathway|Reactome Pathway|WikiPathways Pathway|\n",
    "|----|------------|----------------|--------------------|\n",
    "|BTG2|RNA degradation|NA|NA|"
   ]
  },
  {
   "cell_type": "markdown",
   "metadata": {},
   "source": [
    "Query KAT8 in the 3 databases"
   ]
  },
  {
   "cell_type": "code",
   "execution_count": 11,
   "metadata": {},
   "outputs": [],
   "source": [
    "KAT8_in_kegg_pathways = check_pathways_for_query_node(kegg_pathways, 'KAT8')\n",
    "KAT8_in_reactome_pathways = check_pathways_for_query_node(reactome_pathways, 'KAT8')\n",
    "KAT8_in_wp_pathways = check_pathways_for_query_node(wp_pathways, 'KAT8')"
   ]
  },
  {
   "cell_type": "markdown",
   "metadata": {},
   "source": [
    "|Gene|KEGG Pathway|Reactome Pathway|WikiPathways Pathway|\n",
    "|----|------------|----------------|--------------------|\n",
    "|KAT8|NA|NA|NA|"
   ]
  },
  {
   "cell_type": "markdown",
   "metadata": {},
   "source": [
    "Query the MAPT gene in the 3 databases"
   ]
  },
  {
   "cell_type": "code",
   "execution_count": 12,
   "metadata": {},
   "outputs": [],
   "source": [
    "MAPT_in_kegg_pathways = check_pathways_for_query_node(kegg_pathways, 'MAPT')\n",
    "MAPT_in_reactome_pathways = check_pathways_for_query_node(reactome_pathways, 'MAPT')\n",
    "MAPT_in_wp_pathways = check_pathways_for_query_node(wp_pathways, 'MAPT')"
   ]
  },
  {
   "cell_type": "markdown",
   "metadata": {},
   "source": [
    "|Gene|KEGG Pathway|Reactome Pathway|WikiPathways Pathway|\n",
    "|----|------------|----------------|--------------------|\n",
    "|MAPT|Alzheimer disease|NA|Alzheimers Disease|\n",
    "|MAPT|MAPK signaling pathway|NA|Brain-Derived Neurotrophic Factor (BDNF) signaling pathway|\n",
    "|MAPT|NA|NA|Copper homeostasis|\n",
    "|MAPT|NA|NA|IL-2 Signaling Pathway|\n",
    "|MAPT|NA|NA|IL-5 Signaling Pathway|\n",
    "|MAPT|NA|NA|Kit receptor signaling pathway|\n",
    "|MAPT|NA|NA|Notch Signaling Pathway|\n",
    "|MAPT|NA|NA|Regulation of Microtubule Cytoskeleton|"
   ]
  },
  {
   "cell_type": "markdown",
   "metadata": {},
   "source": [
    "Query TP53 in the 3 databases"
   ]
  },
  {
   "cell_type": "code",
   "execution_count": 13,
   "metadata": {},
   "outputs": [],
   "source": [
    "TP53_in_kegg_pathways = check_pathways_for_query_node(kegg_pathways, 'TP53')\n",
    "TP53_in_reactome_pathways = check_pathways_for_query_node(reactome_pathways, 'TP53')\n",
    "TP53_in_wp_pathways = check_pathways_for_query_node(wp_pathways, 'TP53')"
   ]
  },
  {
   "cell_type": "markdown",
   "metadata": {},
   "source": [
    "|Gene|KEGG Pathway|Reactome Pathway|WikiPathways Pathway|\n",
    "|----|------------|----------------|--------------------|\n",
    "|TP53|Amyotrophic lateral sclerosis (ALS)|DNA Damage/Telomere Stress Induced Senescence|ATM Signaling Pathway|\n",
    "|TP53|Apoptosis|Factors involved in megakaryocyte development and platelet production|Alzheimers Disease|\n",
    "|TP53|Basal cell carcinoma|G2/M DNA damage checkpoint|Apoptosis|\n",
    "|TP53|Bladder cancer|Oncogene Induced Senescence|Cell Cycle|\n",
    "|TP53|Breast cancer|Oxidative Stress Induced Senescence|Copper homeostasis|\n",
    "|TP53|Cell cycle|Pre-NOTCH Transcription and Translation|DNA Damage Response|\n",
    "|TP53|Cellular senescence|RUNX3 regulates CDKN1A transcription|DNA Damage Response (only ATM dependent)|\n",
    "|TP53|Central carbon metabolism in cancer|Recruitment and ATM-mediated phosphorylation of repair and signaling proteins at DNA double strand breaks|DNA IR-Double Strand Breaks (DSBs) and cellular response via ATM|\n",
    "|TP53|Chronic myeloid leukemia|Regulation of PTEN gene transcription|DNA IR-damage and cellular response via ATR|\n",
    "|TP53|Colorectal cancer|Regulation of TP53 Activity through Association with Co-factors|Endometrial cancer|\n",
    "|TP53|Endocrine resistance|Regulation of TP53 Activity through Methylation|ErbB Signaling Pathway|\n",
    "|TP53|Endometrial cancer|Regulation of TP53 Activity through Phosphorylation|G1 to S cell cycle control|\n",
    "|TP53|Epstein-Barr virus infection|Regulation of TP53 Degradation|Gastric Cancer Network 2|\n",
    "|TP53|Ferroptosis|Regulation of TP53 Expression|Hepatitis C and Hepatocellular Carcinoma|\n",
    "|TP53|Fluid shear stress and atherosclerosis|SUMOylation of transcription factors|Hereditary leiomyomatosis and renal cell carcinoma pathway|\n",
    "|TP53|Gastric cancer|Stabilization of p53|Integrated Breast Cancer Pathway|\n",
    "|TP53|Glioma|TP53 Regulates Metabolic Genes|Integrated Cancer Pathway|\n",
    "|TP53|Hepatitis B|Ub-specific processing proteases|Mammary gland development pathway - Involution (Stage 4 of 4)|\n",
    "|TP53|Hepatitis C|NA|Metastatic brain tumor|\n",
    "|TP53|Hepatocellular carcinoma|NA|PI3K-Akt Signaling Pathway|\n",
    "|TP53|Herpes simplex virus 1 infection|NA|Pathways Affected in Adenoid Cystic Carcinoma|\n",
    "|TP53|Human T-cell leukemia virus 1 infection|NA|Prader-Willi and Angelman Syndrome|\n",
    "|TP53|Human cytomegalovirus infection|NA|Retinoblastoma Gene in Cancer|\n",
    "|TP53|Human papillomavirus infection|NA|Senescence and Autophagy in Cancer|\n",
    "|TP53|Huntington disease|NA|Signaling Pathways in Glioblastoma|\n",
    "|TP53|Kaposi sarcoma-associated herpesvirus infection|NA|Spinal Cord Injury|\n",
    "|TP53|Longevity regulating pathway|NA|TP53 Network|\n",
    "|TP53|MAPK signaling pathway|NA|The effect of progerin on the involved genes in Hutchinson-Gilford Progeria Syndrome|\n",
    "|TP53|Measles|NA|Wnt Signaling Pathway and Pluripotency|\n",
    "|TP53|Melanoma|NA|miRNA Regulation of DNA Damage Response|\n",
    "|TP53|MicroRNAs in cancer|NA|miRNA regulation of p53 pathway in prostate cancer|\n",
    "|TP53|Mitophagy - animal|NA|miRNA regulation of prostate cancer signaling pathways|\n",
    "|TP53|Neurotrophin signaling pathway|NA|NA|\n",
    "|TP53|Non-small cell lung cancer|NA|NA|\n",
    "|TP53|PI3K-Akt signaling pathway|NA|NA|\n",
    "|TP53|Pancreatic cancer|NA|NA|\n",
    "|TP53|Pathways in cancer|NA|NA|\n",
    "|TP53|Platinum drug resistance|NA|NA|\n",
    "|TP53|Prostate cancer|NA|NA|\n",
    "|TP53|Proteoglycans in cancer|NA|NA|\n",
    "|TP53|Shigellosis|NA|NA|\n",
    "|TP53|Small cell lung cancer|NA|NA|\n",
    "|TP53|Sphingolipid signaling pathway|NA|NA|\n",
    "|TP53|Thyroid cancer|NA|NA|\n",
    "|TP53|Thyroid hormone signaling pathway|NA|NA|\n",
    "|TP53|Transcriptional misregulation in cancer|NA|NA|\n",
    "|TP53|Viral carcinogenesis|NA|NA|\n",
    "|TP53|Wnt signaling pathway|NA|NA|\n",
    "|TP53|p53 signaling pathway|NA|NA|"
   ]
  }
 ],
 "metadata": {
  "kernelspec": {
   "display_name": "Python 3",
   "language": "python",
   "name": "python3"
  },
  "language_info": {
   "codemirror_mode": {
    "name": "ipython",
    "version": 3
   },
   "file_extension": ".py",
   "mimetype": "text/x-python",
   "name": "python",
   "nbconvert_exporter": "python",
   "pygments_lexer": "ipython3",
   "version": "3.6.8"
  }
 },
 "nbformat": 4,
 "nbformat_minor": 2
}
